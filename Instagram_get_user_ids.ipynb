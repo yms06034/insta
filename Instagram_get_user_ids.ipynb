{
 "cells": [
  {
   "cell_type": "code",
   "execution_count": 243,
   "id": "19396fec",
   "metadata": {},
   "outputs": [],
   "source": [
    "from subprocess import CREATE_NO_WINDOW\n",
    "from selenium import webdriver\n",
    "from selenium.webdriver.common.by import By\n",
    "from selenium.webdriver.common.keys import Keys\n",
    "from selenium.webdriver.chrome.options import Options\n",
    "from selenium.webdriver.chrome.service import Service\n",
    "from selenium.common.exceptions import *\n",
    "\n",
    "from webdriver_manager.chrome import ChromeDriverManager\n",
    "from bs4 import BeautifulSoup as bs\n",
    "from datetime import datetime\n",
    "\n",
    "import pandas as pd\n",
    "import time\n",
    "import pyperclip\n",
    "import os"
   ]
  },
  {
   "cell_type": "code",
   "execution_count": 2,
   "id": "a3b11aa6",
   "metadata": {},
   "outputs": [],
   "source": [
    "def find_css(css_selector, browser):\n",
    "    return browser.find_element(By.CSS_SELECTOR, css_selector)\n",
    "\n",
    "def finds_css(css_selector, browser):\n",
    "    return browser.find_elements(By.CSS_SELECTOR, css_selector)\n",
    "\n",
    "def find_xpath(xpath, browser):\n",
    "    return browser.find_element(By.XPATH, xpath)\n",
    "\n",
    "def finds_xpath(xpath, browser):\n",
    "    return browser.find_elements(By.XPATH, xpath)\n",
    "\n",
    "def find_id(e_id, browser):\n",
    "    return browser.find_element(By.ID, e_id)\n",
    "\n",
    "def find_className(cn, browser):\n",
    "    return browser.find_element(By.CLASS_NAME, cn)\n",
    "\n",
    "def finds_className(cn , browser):\n",
    "    return browser.find_elements(By.CLASS_NAME, cn)\n",
    "\n",
    "def find_linktext(lt, browser):\n",
    "    return browser.find_element(By.LINK_TEXT, lt)"
   ]
  },
  {
   "cell_type": "code",
   "execution_count": 402,
   "id": "0b53920e",
   "metadata": {},
   "outputs": [],
   "source": [
    "def open_browser():\n",
    "    options = webdriver.ChromeOptions()\n",
    "    options.add_argument('--no--sandbox')\n",
    "    options.add_argument('no-sandbox')\n",
    "    options.add_argument('--disable-dev-shm-usage')\n",
    "    options.add_argument('--window-size=1080,800')\n",
    "    options.add_argument('incognito')\n",
    "\n",
    "    chrome_service = Service('chromedriver')\n",
    "    chrome_service.creationflags = CREATE_NO_WINDOW\n",
    "    chrome_service = Service(executable_path=\"chromedriver.exe\")\n",
    "    browser = webdriver.Chrome(service=chrome_service, options=options)\n",
    "    \n",
    "    browser.get('https://www.instagram.com/')\n",
    "    browser.implicitly_wait(2)\n",
    "    \n",
    "    return browser"
   ]
  },
  {
   "cell_type": "code",
   "execution_count": null,
   "id": "426fc962",
   "metadata": {},
   "outputs": [],
   "source": [
    "INPUT_ID = '//*[@id=\"loginForm\"]/div/div[1]/div/label/input'\n",
    "INPUT_PWD = '//*[@id=\"loginForm\"]/div/div[2]/div/label/input'\n",
    "ALERT_2 = '/html/body/div[2]/div/div/div[3]/div/div/div[1]/div/div[2]/div/div/div/div/div[2]/div/div/div[3]/button[2]'\n",
    "\n",
    "FIRST_POST = '/html/body/div[2]/div/div/div[2]/div/div/div/div[1]/div[1]/div[2]/section/main/article/div/div/div/div[1]/div[1]'\n",
    "WAIT_UNTIL_LOADING = '/html/body/div[2]/div/div/div[2]/div/div/div/div[1]/div[1]/div[2]/div[2]/section/main/div/header/div/div/span/img'\n",
    "NEXT_FOR_FIRST = '/html/body/div[2]/div/div/div[3]/div/div/div[1]/div/div[3]/div/div/div/div/div[1]/div/div/div'\n",
    "NEXT_AFTER_FIRST = '/html/body/div[2]/div/div/div[3]/div/div/div[1]/div/div[3]/div/div/div/div/div[1]/div/div/div[2]'"
   ]
  },
  {
   "cell_type": "code",
   "execution_count": 471,
   "id": "c516d631",
   "metadata": {},
   "outputs": [],
   "source": [
    "insta_id = 'mirae_market_09'\n",
    "insta_pwd = 'han8289988@'\n"
   ]
  },
  {
   "cell_type": "code",
   "execution_count": 472,
   "id": "e458d68a",
   "metadata": {},
   "outputs": [],
   "source": [
    "keyword = '맛집'"
   ]
  },
  {
   "cell_type": "code",
   "execution_count": 478,
   "id": "edfc41c5",
   "metadata": {},
   "outputs": [],
   "source": [
    "user_id = []\n",
    "COUNT = 5\n",
    "FOLLOWER = 200"
   ]
  },
  {
   "cell_type": "code",
   "execution_count": 474,
   "id": "138229de",
   "metadata": {},
   "outputs": [],
   "source": [
    "browser = open_browser()"
   ]
  },
  {
   "cell_type": "code",
   "execution_count": 475,
   "id": "2c292155",
   "metadata": {},
   "outputs": [],
   "source": [
    "def login(browser, insta_id, insta_pwd):\n",
    "    input_id = find_xpath(INPUT_ID, browser)\n",
    "    input_pw = find_xpath(INPUT_PWD, browser)\n",
    "\n",
    "    time.sleep(2)\n",
    "\n",
    "    pyperclip.copy(insta_id)\n",
    "    input_id.send_keys(Keys.CONTROL, \"v\")\n",
    "\n",
    "    pyperclip.copy(insta_pwd) \n",
    "    input_pw.send_keys(Keys.CONTROL, \"v\")\n",
    "    input_pw.send_keys(\"\\n\")\n",
    "\n",
    "    try:\n",
    "        if find_id('slfErrorAlert', browser).text == '잘못된 비밀번호입니다. 다시 확인하세요.':\n",
    "            print('로그인 실패')\n",
    "    except:\n",
    "        pass\n",
    "\n",
    "    alert_1 = find_className('_ac8f', browser).click()\n",
    "\n",
    "    try:\n",
    "        alert_2 = find_xpath(ALERT_2, browser).click()\n",
    "    except:\n",
    "        pass"
   ]
  },
  {
   "cell_type": "code",
   "execution_count": 480,
   "id": "2f4bfd32",
   "metadata": {},
   "outputs": [
    {
     "name": "stdout",
     "output_type": "stream",
     "text": [
      "7.april.park\n",
      "32\n",
      "1134\n",
      "294\n",
      "add\n",
      "min_happy.matzip\n",
      "541\n",
      "3.4만\n",
      "4952\n",
      "add\n",
      "jinwon5385\n",
      "952\n",
      "4.2만\n",
      "1874\n",
      "add\n",
      "mat__.zip\n",
      "387\n",
      "4.2만\n",
      "542\n",
      "add\n",
      "wetonwet2\n",
      "1056\n",
      "9725\n",
      "6286\n",
      "add\n",
      "out\n",
      "min_happy.matzip\n",
      "wetonwet2\n",
      "7.april.park\n",
      "jinwon5385\n",
      "mat__.zip\n"
     ]
    }
   ],
   "source": [
    "\n",
    "def get_user_ids(browser, keyword, COUNT, FOLLOWER):\n",
    "    browser.get(f'https://www.instagram.com/explore/tags/{keyword}/')\n",
    "\n",
    "    time.sleep(5)\n",
    "\n",
    "    first_post = find_xpath(FIRST_POST, browser).click()\n",
    "\n",
    "    soup = bs(browser.page_source, \"html.parser\")\n",
    "    s = soup.find_all(class_=\"xt0psk2\")\n",
    "\n",
    "    for i in s:\n",
    "        try:\n",
    "            if i.find(\"a\").text:\n",
    "                tmp = i.find('a'). text\n",
    "                break\n",
    "        except:\n",
    "            pass\n",
    "    print(tmp)\n",
    "\n",
    "    browser.execute_script('window.open(\"https://google.com\");')  #구글 창 새 탭으로 열기\n",
    "    time.sleep(1)\n",
    "\n",
    "    browser.switch_to.window(browser.window_handles[-1])  #새로 연 탭으로 이동\n",
    "    browser.get(f'https://www.instagram.com/{tmp}/')\n",
    "    browser.implicitly_wait(10)\n",
    "    find_xpath(WAIT_UNTIL_LOADING,browser)\n",
    "\n",
    "    soup = bs(browser.page_source, \"html.parser\")\n",
    "    s = soup.find_all(class_=\"_ac2a\")\n",
    "\n",
    "    for i in s:\n",
    "        print(i.text)\n",
    "\n",
    "    f = s[1].text\n",
    "    if '만' in f:\n",
    "        if '.' in f:\n",
    "            f = f.replace('.','').replace('만', '000')\n",
    "        else:\n",
    "            f = f.replace('만', '0000')\n",
    "\n",
    "    if int(f) >= FOLLOWER:\n",
    "        print('add')\n",
    "        user_id.append(tmp)\n",
    "        user_id = list(set(user_id))\n",
    "\n",
    "    browser.close()  #링크 이동 후 탭 닫기\n",
    "    browser.switch_to.window(browser.window_handles[-1])  #다시 이전 창(탭)으로 이동\n",
    "    time.sleep(1)\n",
    "\n",
    "    if len(user_id) >= COUNT:\n",
    "        print('out')\n",
    "    else:\n",
    "        next_for_first = find_xpath(NEXT_FOR_FIRST, browser).click()\n",
    "\n",
    "        while True:\n",
    "            soup = bs(browser.page_source, \"html.parser\")\n",
    "            s = soup.find_all(class_=\"xt0psk2\")\n",
    "\n",
    "            for i in s:\n",
    "                try:\n",
    "                    if i.find(\"a\").text:\n",
    "                        tmp = i.find('a'). text\n",
    "                        break\n",
    "                except:\n",
    "                    pass\n",
    "            print(tmp)\n",
    "            if tmp in user_id:\n",
    "                continue\n",
    "\n",
    "            browser.execute_script('window.open(\"https://google.com\");')  #구글 창 새 탭으로 열기\n",
    "            time.sleep(1)\n",
    "\n",
    "            browser.switch_to.window(browser.window_handles[-1])  #새로 연 탭으로 이동\n",
    "\n",
    "            browser.get(f'https://www.instagram.com/{tmp}/')\n",
    "            browser.implicitly_wait(10)\n",
    "            find_xpath(WAIT_UNTIL_LOADING,browser)\n",
    "            soup = bs(browser.page_source, \"html.parser\")\n",
    "            s = soup.find_all(class_=\"_ac2a\")\n",
    "\n",
    "            for i in s:\n",
    "                print(i.text)\n",
    "\n",
    "            f = s[1].text\n",
    "            if '만' in f:\n",
    "                if '.' in f:\n",
    "                    f = f.replace('.','').replace('만', '000')\n",
    "                else:\n",
    "                    f = f.replace('만', '0000')\n",
    "\n",
    "            if int(f) >= FOLLOWER:\n",
    "                print('add')\n",
    "                user_id.append(tmp)\n",
    "                user_id = list(set(user_id))\n",
    "                if len(user_id) >= COUNT:\n",
    "                        print('out')\n",
    "                        browser.close()  #링크 이동 후 탭 닫기\n",
    "                        browser.switch_to.window(browser.window_handles[-1]) \n",
    "                        break\n",
    "\n",
    "            else: print('pass')\n",
    "            browser.close()  #링크 이동 후 탭 닫기\n",
    "            browser.switch_to.window(browser.window_handles[-1])  #다시 이전 창(탭)으로 이동\n",
    "            time.sleep(1)\n",
    "\n",
    "            try:\n",
    "                next_after_first = find_xpath(NEXT_AFTER_FIRST, browser).click()\n",
    "            except NoSuchElementException:\n",
    "                break\n",
    "                \n",
    "    return user_id"
   ]
  },
  {
   "cell_type": "code",
   "execution_count": 470,
   "id": "30942c84",
   "metadata": {
    "collapsed": true
   },
   "outputs": [
    {
     "ename": "NoSuchWindowException",
     "evalue": "Message: no such window: target window already closed\nfrom unknown error: web view not found\n  (Session info: chrome=114.0.5735.199)\nStacktrace:\nBacktrace:\n\tGetHandleVerifier [0x00E1A813+48355]\n\t(No symbol) [0x00DAC4B1]\n\t(No symbol) [0x00CB5358]\n\t(No symbol) [0x00C9D293]\n\t(No symbol) [0x00CFE37B]\n\t(No symbol) [0x00D02842]\n\t(No symbol) [0x00CFA703]\n\t(No symbol) [0x00CD82DC]\n\t(No symbol) [0x00CD93DD]\n\tGetHandleVerifier [0x0107AABD+2539405]\n\tGetHandleVerifier [0x010BA78F+2800735]\n\tGetHandleVerifier [0x010B456C+2775612]\n\tGetHandleVerifier [0x00EA51E0+616112]\n\t(No symbol) [0x00DB5F8C]\n\t(No symbol) [0x00DB2328]\n\t(No symbol) [0x00DB240B]\n\t(No symbol) [0x00DA4FF7]\n\tBaseThreadInitThunk [0x759300C9+25]\n\tRtlGetAppContainerNamedObjectPath [0x76F67B1E+286]\n\tRtlGetAppContainerNamedObjectPath [0x76F67AEE+238]\n",
     "output_type": "error",
     "traceback": [
      "\u001b[1;31m---------------------------------------------------------------------------\u001b[0m",
      "\u001b[1;31mNoSuchWindowException\u001b[0m                     Traceback (most recent call last)",
      "Cell \u001b[1;32mIn[470], line 1\u001b[0m\n\u001b[1;32m----> 1\u001b[0m \u001b[43mbrowser\u001b[49m\u001b[38;5;241;43m.\u001b[39;49m\u001b[43mclose\u001b[49m\u001b[43m(\u001b[49m\u001b[43m)\u001b[49m  \u001b[38;5;66;03m#링크 이동 후 탭 닫기\u001b[39;00m\n\u001b[0;32m      2\u001b[0m browser\u001b[38;5;241m.\u001b[39mswitch_to\u001b[38;5;241m.\u001b[39mwindow(browser\u001b[38;5;241m.\u001b[39mwindow_handles[\u001b[38;5;241m-\u001b[39m\u001b[38;5;241m1\u001b[39m])\n",
      "File \u001b[1;32m~\\AppData\\Local\\anaconda3\\lib\\site-packages\\selenium\\webdriver\\remote\\webdriver.py:457\u001b[0m, in \u001b[0;36mWebDriver.close\u001b[1;34m(self)\u001b[0m\n\u001b[0;32m    449\u001b[0m \u001b[38;5;28;01mdef\u001b[39;00m \u001b[38;5;21mclose\u001b[39m(\u001b[38;5;28mself\u001b[39m) \u001b[38;5;241m-\u001b[39m\u001b[38;5;241m>\u001b[39m \u001b[38;5;28;01mNone\u001b[39;00m:\n\u001b[0;32m    450\u001b[0m     \u001b[38;5;124;03m\"\"\"Closes the current window.\u001b[39;00m\n\u001b[0;32m    451\u001b[0m \n\u001b[0;32m    452\u001b[0m \u001b[38;5;124;03m    :Usage:\u001b[39;00m\n\u001b[1;32m   (...)\u001b[0m\n\u001b[0;32m    455\u001b[0m \u001b[38;5;124;03m            driver.close()\u001b[39;00m\n\u001b[0;32m    456\u001b[0m \u001b[38;5;124;03m    \"\"\"\u001b[39;00m\n\u001b[1;32m--> 457\u001b[0m     \u001b[38;5;28;43mself\u001b[39;49m\u001b[38;5;241;43m.\u001b[39;49m\u001b[43mexecute\u001b[49m\u001b[43m(\u001b[49m\u001b[43mCommand\u001b[49m\u001b[38;5;241;43m.\u001b[39;49m\u001b[43mCLOSE\u001b[49m\u001b[43m)\u001b[49m\n",
      "File \u001b[1;32m~\\AppData\\Local\\anaconda3\\lib\\site-packages\\selenium\\webdriver\\remote\\webdriver.py:346\u001b[0m, in \u001b[0;36mWebDriver.execute\u001b[1;34m(self, driver_command, params)\u001b[0m\n\u001b[0;32m    344\u001b[0m response \u001b[38;5;241m=\u001b[39m \u001b[38;5;28mself\u001b[39m\u001b[38;5;241m.\u001b[39mcommand_executor\u001b[38;5;241m.\u001b[39mexecute(driver_command, params)\n\u001b[0;32m    345\u001b[0m \u001b[38;5;28;01mif\u001b[39;00m response:\n\u001b[1;32m--> 346\u001b[0m     \u001b[38;5;28;43mself\u001b[39;49m\u001b[38;5;241;43m.\u001b[39;49m\u001b[43merror_handler\u001b[49m\u001b[38;5;241;43m.\u001b[39;49m\u001b[43mcheck_response\u001b[49m\u001b[43m(\u001b[49m\u001b[43mresponse\u001b[49m\u001b[43m)\u001b[49m\n\u001b[0;32m    347\u001b[0m     response[\u001b[38;5;124m\"\u001b[39m\u001b[38;5;124mvalue\u001b[39m\u001b[38;5;124m\"\u001b[39m] \u001b[38;5;241m=\u001b[39m \u001b[38;5;28mself\u001b[39m\u001b[38;5;241m.\u001b[39m_unwrap_value(response\u001b[38;5;241m.\u001b[39mget(\u001b[38;5;124m\"\u001b[39m\u001b[38;5;124mvalue\u001b[39m\u001b[38;5;124m\"\u001b[39m, \u001b[38;5;28;01mNone\u001b[39;00m))\n\u001b[0;32m    348\u001b[0m     \u001b[38;5;28;01mreturn\u001b[39;00m response\n",
      "File \u001b[1;32m~\\AppData\\Local\\anaconda3\\lib\\site-packages\\selenium\\webdriver\\remote\\errorhandler.py:245\u001b[0m, in \u001b[0;36mErrorHandler.check_response\u001b[1;34m(self, response)\u001b[0m\n\u001b[0;32m    243\u001b[0m         alert_text \u001b[38;5;241m=\u001b[39m value[\u001b[38;5;124m\"\u001b[39m\u001b[38;5;124malert\u001b[39m\u001b[38;5;124m\"\u001b[39m]\u001b[38;5;241m.\u001b[39mget(\u001b[38;5;124m\"\u001b[39m\u001b[38;5;124mtext\u001b[39m\u001b[38;5;124m\"\u001b[39m)\n\u001b[0;32m    244\u001b[0m     \u001b[38;5;28;01mraise\u001b[39;00m exception_class(message, screen, stacktrace, alert_text)  \u001b[38;5;66;03m# type: ignore[call-arg]  # mypy is not smart enough here\u001b[39;00m\n\u001b[1;32m--> 245\u001b[0m \u001b[38;5;28;01mraise\u001b[39;00m exception_class(message, screen, stacktrace)\n",
      "\u001b[1;31mNoSuchWindowException\u001b[0m: Message: no such window: target window already closed\nfrom unknown error: web view not found\n  (Session info: chrome=114.0.5735.199)\nStacktrace:\nBacktrace:\n\tGetHandleVerifier [0x00E1A813+48355]\n\t(No symbol) [0x00DAC4B1]\n\t(No symbol) [0x00CB5358]\n\t(No symbol) [0x00C9D293]\n\t(No symbol) [0x00CFE37B]\n\t(No symbol) [0x00D02842]\n\t(No symbol) [0x00CFA703]\n\t(No symbol) [0x00CD82DC]\n\t(No symbol) [0x00CD93DD]\n\tGetHandleVerifier [0x0107AABD+2539405]\n\tGetHandleVerifier [0x010BA78F+2800735]\n\tGetHandleVerifier [0x010B456C+2775612]\n\tGetHandleVerifier [0x00EA51E0+616112]\n\t(No symbol) [0x00DB5F8C]\n\t(No symbol) [0x00DB2328]\n\t(No symbol) [0x00DB240B]\n\t(No symbol) [0x00DA4FF7]\n\tBaseThreadInitThunk [0x759300C9+25]\n\tRtlGetAppContainerNamedObjectPath [0x76F67B1E+286]\n\tRtlGetAppContainerNamedObjectPath [0x76F67AEE+238]\n"
     ]
    }
   ],
   "source": [
    "\n",
    "        browser.close()  #링크 이동 후 탭 닫기\n",
    "        browser.switch_to.window(browser.window_handles[-1])"
   ]
  },
  {
   "cell_type": "code",
   "execution_count": 446,
   "id": "90f8bf4a",
   "metadata": {},
   "outputs": [],
   "source": [
    "soup = bs(browser.page_source, \"html.parser\")\n",
    "s = soup.find_all(class_=\"_ac2a\")"
   ]
  },
  {
   "cell_type": "code",
   "execution_count": 447,
   "id": "f0a592b5",
   "metadata": {},
   "outputs": [
    {
     "name": "stdout",
     "output_type": "stream",
     "text": [
      "527\n",
      "1.4만\n",
      "6106\n"
     ]
    }
   ],
   "source": [
    "for i in s:\n",
    "    print(i.text)"
   ]
  },
  {
   "cell_type": "code",
   "execution_count": 448,
   "id": "97666909",
   "metadata": {},
   "outputs": [],
   "source": [
    "a = s[1].text"
   ]
  },
  {
   "cell_type": "code",
   "execution_count": 449,
   "id": "c4bc0f0e",
   "metadata": {},
   "outputs": [],
   "source": [
    "if '.' in a:\n",
    "    a = a.replace('.','').replace('만', '000')"
   ]
  },
  {
   "cell_type": "code",
   "execution_count": 450,
   "id": "fc90d20a",
   "metadata": {},
   "outputs": [
    {
     "data": {
      "text/plain": [
       "'14000'"
      ]
     },
     "execution_count": 450,
     "metadata": {},
     "output_type": "execute_result"
    }
   ],
   "source": [
    "a"
   ]
  },
  {
   "cell_type": "code",
   "execution_count": 463,
   "id": "1122533a",
   "metadata": {},
   "outputs": [
    {
     "data": {
      "text/plain": [
       "'10000'"
      ]
     },
     "execution_count": 463,
     "metadata": {},
     "output_type": "execute_result"
    }
   ],
   "source": [
    "f.replace('만', '0000')"
   ]
  },
  {
   "cell_type": "code",
   "execution_count": 466,
   "id": "2699457e",
   "metadata": {},
   "outputs": [
    {
     "name": "stdout",
     "output_type": "stream",
     "text": [
      "1\n",
      "3\n"
     ]
    }
   ],
   "source": [
    "if '만' in f:\n",
    "    print(1)\n",
    "    if '.' in f:\n",
    "        f = f.replace('.','').replace('만', '000')\n",
    "        print(2)\n",
    "    else:\n",
    "        f = f.replace('만', '0000')\n",
    "        print(3)"
   ]
  },
  {
   "cell_type": "code",
   "execution_count": 464,
   "id": "8e7168de",
   "metadata": {},
   "outputs": [],
   "source": [
    "f = '1만'"
   ]
  },
  {
   "cell_type": "code",
   "execution_count": 467,
   "id": "0b63829b",
   "metadata": {},
   "outputs": [
    {
     "data": {
      "text/plain": [
       "'1만'"
      ]
     },
     "execution_count": 467,
     "metadata": {},
     "output_type": "execute_result"
    }
   ],
   "source": [
    "f"
   ]
  },
  {
   "cell_type": "code",
   "execution_count": null,
   "id": "1bf3f7ce",
   "metadata": {},
   "outputs": [],
   "source": []
  }
 ],
 "metadata": {
  "kernelspec": {
   "display_name": "Python 3 (ipykernel)",
   "language": "python",
   "name": "python3"
  },
  "language_info": {
   "codemirror_mode": {
    "name": "ipython",
    "version": 3
   },
   "file_extension": ".py",
   "mimetype": "text/x-python",
   "name": "python",
   "nbconvert_exporter": "python",
   "pygments_lexer": "ipython3",
   "version": "3.10.9"
  }
 },
 "nbformat": 4,
 "nbformat_minor": 5
}
